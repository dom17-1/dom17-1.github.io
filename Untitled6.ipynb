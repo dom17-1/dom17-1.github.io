{
  "cells": [
    {
      "cell_type": "markdown",
      "metadata": {
        "id": "view-in-github",
        "colab_type": "text"
      },
      "source": [
        "<a href=\"https://colab.research.google.com/github/dom17-1/dom17-1.github.io/blob/main/Untitled6.ipynb\" target=\"_parent\"><img src=\"https://colab.research.google.com/assets/colab-badge.svg\" alt=\"Open In Colab\"/></a>"
      ]
    },
    {
      "cell_type": "code",
      "execution_count": null,
      "metadata": {
        "colab": {
          "base_uri": "https://localhost:8080/",
          "height": 349
        },
        "id": "9UN2-Oc3oFgQ",
        "outputId": "71383915-a441-4132-f2e0-e6b8eab4f7ab"
      },
      "outputs": [
        {
          "name": "stdout",
          "output_type": "stream",
          "text": [
            "Enter marks: 80\n"
          ]
        },
        {
          "ename": "TypeError",
          "evalue": "'<=' not supported between instances of 'int' and 'list'",
          "output_type": "error",
          "traceback": [
            "\u001b[0;31m---------------------------------------------------------------------------\u001b[0m",
            "\u001b[0;31mTypeError\u001b[0m                                 Traceback (most recent call last)",
            "\u001b[0;32m<ipython-input-4-b827c15fb2d4>\u001b[0m in \u001b[0;36m<cell line: 26>\u001b[0;34m()\u001b[0m\n\u001b[1;32m     31\u001b[0m     \u001b[0;32mtry\u001b[0m\u001b[0;34m:\u001b[0m\u001b[0;34m\u001b[0m\u001b[0;34m\u001b[0m\u001b[0m\n\u001b[1;32m     32\u001b[0m         \u001b[0mmarks\u001b[0m \u001b[0;34m=\u001b[0m \u001b[0mint\u001b[0m\u001b[0;34m(\u001b[0m\u001b[0mmarks\u001b[0m\u001b[0;34m)\u001b[0m\u001b[0;34m\u001b[0m\u001b[0;34m\u001b[0m\u001b[0m\n\u001b[0;32m---> 33\u001b[0;31m         \u001b[0mgrade\u001b[0m \u001b[0;34m=\u001b[0m \u001b[0mget_grade\u001b[0m\u001b[0;34m(\u001b[0m\u001b[0mmarks\u001b[0m\u001b[0;34m)\u001b[0m\u001b[0;34m\u001b[0m\u001b[0;34m\u001b[0m\u001b[0m\n\u001b[0m\u001b[1;32m     34\u001b[0m         \u001b[0mprint\u001b[0m\u001b[0;34m(\u001b[0m\u001b[0;34m\"Grade:\"\u001b[0m\u001b[0;34m,\u001b[0m \u001b[0mgrade\u001b[0m\u001b[0;34m)\u001b[0m\u001b[0;34m\u001b[0m\u001b[0;34m\u001b[0m\u001b[0m\n\u001b[1;32m     35\u001b[0m     \u001b[0;32mexcept\u001b[0m \u001b[0mValueError\u001b[0m\u001b[0;34m:\u001b[0m\u001b[0;34m\u001b[0m\u001b[0;34m\u001b[0m\u001b[0m\n",
            "\u001b[0;32m<ipython-input-4-b827c15fb2d4>\u001b[0m in \u001b[0;36mget_grade\u001b[0;34m(marks)\u001b[0m\n\u001b[1;32m     18\u001b[0m     \u001b[0;32mfor\u001b[0m \u001b[0mgrade\u001b[0m\u001b[0;34m,\u001b[0m \u001b[0;34m(\u001b[0m\u001b[0mmin_marks\u001b[0m\u001b[0;34m,\u001b[0m \u001b[0mmax_marks\u001b[0m\u001b[0;34m)\u001b[0m \u001b[0;32min\u001b[0m \u001b[0mgrading_system\u001b[0m\u001b[0;34m.\u001b[0m\u001b[0mitems\u001b[0m\u001b[0;34m(\u001b[0m\u001b[0;34m)\u001b[0m\u001b[0;34m:\u001b[0m\u001b[0;34m\u001b[0m\u001b[0;34m\u001b[0m\u001b[0m\n\u001b[1;32m     19\u001b[0m       \u001b[0mmarks\u001b[0m \u001b[0;34m=\u001b[0m\u001b[0;34m[\u001b[0m\u001b[0mmarks\u001b[0m\u001b[0;34m]\u001b[0m\u001b[0;34m\u001b[0m\u001b[0;34m\u001b[0m\u001b[0m\n\u001b[0;32m---> 20\u001b[0;31m       \u001b[0;32mif\u001b[0m \u001b[0mmin_marks\u001b[0m \u001b[0;34m<=\u001b[0m \u001b[0mmarks\u001b[0m \u001b[0;34m<=\u001b[0m \u001b[0mmax_marks\u001b[0m\u001b[0;34m:\u001b[0m\u001b[0;34m\u001b[0m\u001b[0;34m\u001b[0m\u001b[0m\n\u001b[0m\u001b[1;32m     21\u001b[0m             \u001b[0;32mreturn\u001b[0m \u001b[0mgrade\u001b[0m\u001b[0;34m\u001b[0m\u001b[0;34m\u001b[0m\u001b[0m\n\u001b[1;32m     22\u001b[0m     \u001b[0;32mreturn\u001b[0m \u001b[0;34m\"Invalid marks\"\u001b[0m\u001b[0;34m\u001b[0m\u001b[0;34m\u001b[0m\u001b[0m\n",
            "\u001b[0;31mTypeError\u001b[0m: '<=' not supported between instances of 'int' and 'list'"
          ]
        }
      ],
      "source": [
        "# USIU's grading system\n",
        "grading_system = {\n",
        "    'A': (90, 100),\n",
        "    'A-': (87, 89),\n",
        "    'B+': (84-86),\n",
        "    'B': (80, 83),\n",
        "    'B-': (77, 79),\n",
        "    'C+': (74, 76),\n",
        "    'C': (70, 73),\n",
        "    'C-': (67, 69),\n",
        "    'D+': (64, 66),\n",
        "    'D': (62, 63),\n",
        "    'D-': (60, 61),\n",
        "    'F': (0, 59)\n",
        "}\n",
        "\n",
        "def get_grade(marks):\n",
        "    for grade, (min_marks, max_marks) in grading_system.items():\n",
        "      marks =[marks]\n",
        "      if min_marks <= marks <= max_marks:\n",
        "            return grade\n",
        "    return \"Invalid marks\"\n",
        "\n",
        "\n",
        "\n",
        "while True:\n",
        "    marks = input(\"Enter marks: \")\n",
        "    if marks.lower() == 'quit':\n",
        "        break\n",
        "\n",
        "    try:\n",
        "        marks = int(marks)\n",
        "        grade = get_grade(marks)\n",
        "        print(\"Grade:\", grade)\n",
        "    except ValueError:\n",
        "        print(\"Invalid input. Please enter a valid number.\")"
      ]
    },
    {
      "cell_type": "code",
      "execution_count": null,
      "metadata": {
        "colab": {
          "background_save": true,
          "base_uri": "https://localhost:8080/"
        },
        "id": "aci_z9XLrStC",
        "outputId": "fa92078b-2ef4-4def-a0dc-cf18dc06919e"
      },
      "outputs": [
        {
          "name": "stdout",
          "output_type": "stream",
          "text": [
            "Grade: A-\n"
          ]
        }
      ],
      "source": [
        "# USIU's grading system\n",
        "grading_system = {\n",
        "     'A': (90, 100),\n",
        "    'A-': (87, 89),\n",
        "    'B+': (84-86),\n",
        "    'B': (80, 83),\n",
        "    'B-': (77, 79),\n",
        "    'C+': (74, 76),\n",
        "    'C': (70, 73),\n",
        "    'C-': (67, 69),\n",
        "    'D+': (64, 66),\n",
        "    'D': (62, 63),\n",
        "    'D-': (60, 61),\n",
        "    'F': (0, 59)\n",
        "}\n",
        "\n",
        "def get_grade(marks):\n",
        "    for grade, (lower, upper) in grading_system.items():\n",
        "        if lower <= marks <= upper:\n",
        "            return grade\n",
        "    return \"Invalid marks\"\n",
        "\n",
        "while True:\n",
        "    marks = input(\"Enter marks  \")\n",
        "    if marks.lower() == 'quit':\n",
        "        break\n",
        "\n",
        "\n",
        "    try:\n",
        "        marks = float(marks)\n",
        "        if marks < 0 or marks > 100:\n",
        "            print(\"Invalid marks. Please enter a value between 0 and 100.\")\n",
        "        else:\n",
        "            grade = get_grade(marks)\n",
        "            print(f\"Grade: {grade}\")\n",
        "    except ValueError:\n",
        "        print(\"Invalid input. Please enter a numerical value.\")"
      ]
    }
  ],
  "metadata": {
    "colab": {
      "provenance": [],
      "authorship_tag": "ABX9TyM3vzxwjoLF3W09sw5K0ium",
      "include_colab_link": true
    },
    "kernelspec": {
      "display_name": "Python 3",
      "name": "python3"
    },
    "language_info": {
      "name": "python"
    }
  },
  "nbformat": 4,
  "nbformat_minor": 0
}